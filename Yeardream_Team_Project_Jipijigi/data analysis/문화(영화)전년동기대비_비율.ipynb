{
 "cells": [
  {
   "cell_type": "code",
   "execution_count": 1,
   "id": "eb8d2582",
   "metadata": {},
   "outputs": [],
   "source": [
    "import pandas as pd"
   ]
  },
  {
   "cell_type": "code",
   "execution_count": 2,
   "id": "cb0fe835",
   "metadata": {},
   "outputs": [
    {
     "data": {
      "text/html": [
       "<div>\n",
       "<style scoped>\n",
       "    .dataframe tbody tr th:only-of-type {\n",
       "        vertical-align: middle;\n",
       "    }\n",
       "\n",
       "    .dataframe tbody tr th {\n",
       "        vertical-align: top;\n",
       "    }\n",
       "\n",
       "    .dataframe thead th {\n",
       "        text-align: right;\n",
       "    }\n",
       "</style>\n",
       "<table border=\"1\" class=\"dataframe\">\n",
       "  <thead>\n",
       "    <tr style=\"text-align: right;\">\n",
       "      <th></th>\n",
       "      <th>날짜</th>\n",
       "      <th>전체_관객수</th>\n",
       "    </tr>\n",
       "  </thead>\n",
       "  <tbody>\n",
       "    <tr>\n",
       "      <th>0</th>\n",
       "      <td>2019-01-01</td>\n",
       "      <td>1163267</td>\n",
       "    </tr>\n",
       "    <tr>\n",
       "      <th>1</th>\n",
       "      <td>2019-01-02</td>\n",
       "      <td>353349</td>\n",
       "    </tr>\n",
       "    <tr>\n",
       "      <th>2</th>\n",
       "      <td>2019-01-03</td>\n",
       "      <td>394614</td>\n",
       "    </tr>\n",
       "    <tr>\n",
       "      <th>3</th>\n",
       "      <td>2019-01-04</td>\n",
       "      <td>388232</td>\n",
       "    </tr>\n",
       "    <tr>\n",
       "      <th>4</th>\n",
       "      <td>2019-01-05</td>\n",
       "      <td>820944</td>\n",
       "    </tr>\n",
       "    <tr>\n",
       "      <th>...</th>\n",
       "      <td>...</td>\n",
       "      <td>...</td>\n",
       "    </tr>\n",
       "    <tr>\n",
       "      <th>1030</th>\n",
       "      <td>2021-10-27</td>\n",
       "      <td>142344</td>\n",
       "    </tr>\n",
       "    <tr>\n",
       "      <th>1031</th>\n",
       "      <td>2021-10-28</td>\n",
       "      <td>95646</td>\n",
       "    </tr>\n",
       "    <tr>\n",
       "      <th>1032</th>\n",
       "      <td>2021-10-29</td>\n",
       "      <td>119958</td>\n",
       "    </tr>\n",
       "    <tr>\n",
       "      <th>1033</th>\n",
       "      <td>2021-10-30</td>\n",
       "      <td>240784</td>\n",
       "    </tr>\n",
       "    <tr>\n",
       "      <th>1034</th>\n",
       "      <td>2021-10-31</td>\n",
       "      <td>228318</td>\n",
       "    </tr>\n",
       "  </tbody>\n",
       "</table>\n",
       "<p>1035 rows × 2 columns</p>\n",
       "</div>"
      ],
      "text/plain": [
       "              날짜   전체_관객수\n",
       "0     2019-01-01  1163267\n",
       "1     2019-01-02   353349\n",
       "2     2019-01-03   394614\n",
       "3     2019-01-04   388232\n",
       "4     2019-01-05   820944\n",
       "...          ...      ...\n",
       "1030  2021-10-27   142344\n",
       "1031  2021-10-28    95646\n",
       "1032  2021-10-29   119958\n",
       "1033  2021-10-30   240784\n",
       "1034  2021-10-31   228318\n",
       "\n",
       "[1035 rows x 2 columns]"
      ]
     },
     "execution_count": 2,
     "metadata": {},
     "output_type": "execute_result"
    }
   ],
   "source": [
    "movie = pd.read_csv('영화(수정).csv', encoding='cp949')[['날짜', '전체_관객수']]\n",
    "\n",
    "movie"
   ]
  },
  {
   "cell_type": "code",
   "execution_count": 3,
   "id": "18c9e694",
   "metadata": {},
   "outputs": [],
   "source": [
    "## 일별데이터 월별로 합 구하기"
   ]
  },
  {
   "cell_type": "code",
   "execution_count": 4,
   "id": "47cc6259",
   "metadata": {},
   "outputs": [],
   "source": [
    "def change_date_format(row):\n",
    "    date = row['날짜'].split('-')\n",
    "    result = date[0] + '-' + date[1]\n",
    "    return result"
   ]
  },
  {
   "cell_type": "code",
   "execution_count": 5,
   "id": "368842bb",
   "metadata": {},
   "outputs": [],
   "source": [
    "movie['날짜'] = movie.apply(change_date_format, axis=1)"
   ]
  },
  {
   "cell_type": "code",
   "execution_count": 6,
   "id": "70b06a08",
   "metadata": {},
   "outputs": [
    {
     "data": {
      "text/html": [
       "<div>\n",
       "<style scoped>\n",
       "    .dataframe tbody tr th:only-of-type {\n",
       "        vertical-align: middle;\n",
       "    }\n",
       "\n",
       "    .dataframe tbody tr th {\n",
       "        vertical-align: top;\n",
       "    }\n",
       "\n",
       "    .dataframe thead th {\n",
       "        text-align: right;\n",
       "    }\n",
       "</style>\n",
       "<table border=\"1\" class=\"dataframe\">\n",
       "  <thead>\n",
       "    <tr style=\"text-align: right;\">\n",
       "      <th></th>\n",
       "      <th>날짜</th>\n",
       "      <th>전체_관객수</th>\n",
       "    </tr>\n",
       "  </thead>\n",
       "  <tbody>\n",
       "    <tr>\n",
       "      <th>0</th>\n",
       "      <td>2019-01</td>\n",
       "      <td>1163267</td>\n",
       "    </tr>\n",
       "    <tr>\n",
       "      <th>1</th>\n",
       "      <td>2019-01</td>\n",
       "      <td>353349</td>\n",
       "    </tr>\n",
       "    <tr>\n",
       "      <th>2</th>\n",
       "      <td>2019-01</td>\n",
       "      <td>394614</td>\n",
       "    </tr>\n",
       "    <tr>\n",
       "      <th>3</th>\n",
       "      <td>2019-01</td>\n",
       "      <td>388232</td>\n",
       "    </tr>\n",
       "    <tr>\n",
       "      <th>4</th>\n",
       "      <td>2019-01</td>\n",
       "      <td>820944</td>\n",
       "    </tr>\n",
       "    <tr>\n",
       "      <th>...</th>\n",
       "      <td>...</td>\n",
       "      <td>...</td>\n",
       "    </tr>\n",
       "    <tr>\n",
       "      <th>1030</th>\n",
       "      <td>2021-10</td>\n",
       "      <td>142344</td>\n",
       "    </tr>\n",
       "    <tr>\n",
       "      <th>1031</th>\n",
       "      <td>2021-10</td>\n",
       "      <td>95646</td>\n",
       "    </tr>\n",
       "    <tr>\n",
       "      <th>1032</th>\n",
       "      <td>2021-10</td>\n",
       "      <td>119958</td>\n",
       "    </tr>\n",
       "    <tr>\n",
       "      <th>1033</th>\n",
       "      <td>2021-10</td>\n",
       "      <td>240784</td>\n",
       "    </tr>\n",
       "    <tr>\n",
       "      <th>1034</th>\n",
       "      <td>2021-10</td>\n",
       "      <td>228318</td>\n",
       "    </tr>\n",
       "  </tbody>\n",
       "</table>\n",
       "<p>1035 rows × 2 columns</p>\n",
       "</div>"
      ],
      "text/plain": [
       "           날짜   전체_관객수\n",
       "0     2019-01  1163267\n",
       "1     2019-01   353349\n",
       "2     2019-01   394614\n",
       "3     2019-01   388232\n",
       "4     2019-01   820944\n",
       "...       ...      ...\n",
       "1030  2021-10   142344\n",
       "1031  2021-10    95646\n",
       "1032  2021-10   119958\n",
       "1033  2021-10   240784\n",
       "1034  2021-10   228318\n",
       "\n",
       "[1035 rows x 2 columns]"
      ]
     },
     "execution_count": 6,
     "metadata": {},
     "output_type": "execute_result"
    }
   ],
   "source": [
    "movie"
   ]
  },
  {
   "cell_type": "code",
   "execution_count": 7,
   "id": "62eb8588",
   "metadata": {},
   "outputs": [],
   "source": [
    "df1 = movie.groupby(movie['날짜']).sum()"
   ]
  },
  {
   "cell_type": "code",
   "execution_count": 8,
   "id": "27e19f9a",
   "metadata": {},
   "outputs": [
    {
     "data": {
      "text/html": [
       "<div>\n",
       "<style scoped>\n",
       "    .dataframe tbody tr th:only-of-type {\n",
       "        vertical-align: middle;\n",
       "    }\n",
       "\n",
       "    .dataframe tbody tr th {\n",
       "        vertical-align: top;\n",
       "    }\n",
       "\n",
       "    .dataframe thead th {\n",
       "        text-align: right;\n",
       "    }\n",
       "</style>\n",
       "<table border=\"1\" class=\"dataframe\">\n",
       "  <thead>\n",
       "    <tr style=\"text-align: right;\">\n",
       "      <th></th>\n",
       "      <th>전체_관객수</th>\n",
       "    </tr>\n",
       "    <tr>\n",
       "      <th>날짜</th>\n",
       "      <th></th>\n",
       "    </tr>\n",
       "  </thead>\n",
       "  <tbody>\n",
       "    <tr>\n",
       "      <th>2019-01</th>\n",
       "      <td>18122443</td>\n",
       "    </tr>\n",
       "    <tr>\n",
       "      <th>2019-02</th>\n",
       "      <td>22277733</td>\n",
       "    </tr>\n",
       "    <tr>\n",
       "      <th>2019-03</th>\n",
       "      <td>14671693</td>\n",
       "    </tr>\n",
       "    <tr>\n",
       "      <th>2019-04</th>\n",
       "      <td>13338962</td>\n",
       "    </tr>\n",
       "    <tr>\n",
       "      <th>2019-05</th>\n",
       "      <td>18062457</td>\n",
       "    </tr>\n",
       "    <tr>\n",
       "      <th>2019-06</th>\n",
       "      <td>22845579</td>\n",
       "    </tr>\n",
       "    <tr>\n",
       "      <th>2019-07</th>\n",
       "      <td>21916465</td>\n",
       "    </tr>\n",
       "    <tr>\n",
       "      <th>2019-08</th>\n",
       "      <td>24786121</td>\n",
       "    </tr>\n",
       "    <tr>\n",
       "      <th>2019-09</th>\n",
       "      <td>14733642</td>\n",
       "    </tr>\n",
       "    <tr>\n",
       "      <th>2019-10</th>\n",
       "      <td>14858383</td>\n",
       "    </tr>\n",
       "    <tr>\n",
       "      <th>2019-11</th>\n",
       "      <td>18600679</td>\n",
       "    </tr>\n",
       "    <tr>\n",
       "      <th>2019-12</th>\n",
       "      <td>22464620</td>\n",
       "    </tr>\n",
       "    <tr>\n",
       "      <th>2020-01</th>\n",
       "      <td>16843695</td>\n",
       "    </tr>\n",
       "    <tr>\n",
       "      <th>2020-02</th>\n",
       "      <td>7372370</td>\n",
       "    </tr>\n",
       "    <tr>\n",
       "      <th>2020-03</th>\n",
       "      <td>1834722</td>\n",
       "    </tr>\n",
       "    <tr>\n",
       "      <th>2020-04</th>\n",
       "      <td>972572</td>\n",
       "    </tr>\n",
       "    <tr>\n",
       "      <th>2020-05</th>\n",
       "      <td>1526236</td>\n",
       "    </tr>\n",
       "    <tr>\n",
       "      <th>2020-06</th>\n",
       "      <td>3864533</td>\n",
       "    </tr>\n",
       "    <tr>\n",
       "      <th>2020-07</th>\n",
       "      <td>5618701</td>\n",
       "    </tr>\n",
       "    <tr>\n",
       "      <th>2020-08</th>\n",
       "      <td>8834741</td>\n",
       "    </tr>\n",
       "    <tr>\n",
       "      <th>2020-09</th>\n",
       "      <td>2988680</td>\n",
       "    </tr>\n",
       "    <tr>\n",
       "      <th>2020-10</th>\n",
       "      <td>4633636</td>\n",
       "    </tr>\n",
       "    <tr>\n",
       "      <th>2020-11</th>\n",
       "      <td>3595334</td>\n",
       "    </tr>\n",
       "    <tr>\n",
       "      <th>2020-12</th>\n",
       "      <td>1438873</td>\n",
       "    </tr>\n",
       "    <tr>\n",
       "      <th>2021-01</th>\n",
       "      <td>1786117</td>\n",
       "    </tr>\n",
       "    <tr>\n",
       "      <th>2021-02</th>\n",
       "      <td>3111920</td>\n",
       "    </tr>\n",
       "    <tr>\n",
       "      <th>2021-03</th>\n",
       "      <td>3256510</td>\n",
       "    </tr>\n",
       "    <tr>\n",
       "      <th>2021-04</th>\n",
       "      <td>2562287</td>\n",
       "    </tr>\n",
       "    <tr>\n",
       "      <th>2021-05</th>\n",
       "      <td>4379485</td>\n",
       "    </tr>\n",
       "    <tr>\n",
       "      <th>2021-06</th>\n",
       "      <td>4927991</td>\n",
       "    </tr>\n",
       "    <tr>\n",
       "      <th>2021-07</th>\n",
       "      <td>6976452</td>\n",
       "    </tr>\n",
       "    <tr>\n",
       "      <th>2021-08</th>\n",
       "      <td>7910074</td>\n",
       "    </tr>\n",
       "    <tr>\n",
       "      <th>2021-09</th>\n",
       "      <td>5412323</td>\n",
       "    </tr>\n",
       "    <tr>\n",
       "      <th>2021-10</th>\n",
       "      <td>5192073</td>\n",
       "    </tr>\n",
       "  </tbody>\n",
       "</table>\n",
       "</div>"
      ],
      "text/plain": [
       "           전체_관객수\n",
       "날짜               \n",
       "2019-01  18122443\n",
       "2019-02  22277733\n",
       "2019-03  14671693\n",
       "2019-04  13338962\n",
       "2019-05  18062457\n",
       "2019-06  22845579\n",
       "2019-07  21916465\n",
       "2019-08  24786121\n",
       "2019-09  14733642\n",
       "2019-10  14858383\n",
       "2019-11  18600679\n",
       "2019-12  22464620\n",
       "2020-01  16843695\n",
       "2020-02   7372370\n",
       "2020-03   1834722\n",
       "2020-04    972572\n",
       "2020-05   1526236\n",
       "2020-06   3864533\n",
       "2020-07   5618701\n",
       "2020-08   8834741\n",
       "2020-09   2988680\n",
       "2020-10   4633636\n",
       "2020-11   3595334\n",
       "2020-12   1438873\n",
       "2021-01   1786117\n",
       "2021-02   3111920\n",
       "2021-03   3256510\n",
       "2021-04   2562287\n",
       "2021-05   4379485\n",
       "2021-06   4927991\n",
       "2021-07   6976452\n",
       "2021-08   7910074\n",
       "2021-09   5412323\n",
       "2021-10   5192073"
      ]
     },
     "execution_count": 8,
     "metadata": {},
     "output_type": "execute_result"
    }
   ],
   "source": [
    "df1"
   ]
  },
  {
   "cell_type": "code",
   "execution_count": 9,
   "id": "0dbb81e7",
   "metadata": {},
   "outputs": [],
   "source": [
    "value = df1['전체_관객수']"
   ]
  },
  {
   "cell_type": "code",
   "execution_count": 10,
   "id": "0fb5da30",
   "metadata": {
    "scrolled": true
   },
   "outputs": [
    {
     "data": {
      "text/plain": [
       "날짜\n",
       "2019-01    18122443\n",
       "2019-02    22277733\n",
       "2019-03    14671693\n",
       "2019-04    13338962\n",
       "2019-05    18062457\n",
       "2019-06    22845579\n",
       "2019-07    21916465\n",
       "2019-08    24786121\n",
       "2019-09    14733642\n",
       "2019-10    14858383\n",
       "2019-11    18600679\n",
       "2019-12    22464620\n",
       "2020-01    16843695\n",
       "2020-02     7372370\n",
       "2020-03     1834722\n",
       "2020-04      972572\n",
       "2020-05     1526236\n",
       "2020-06     3864533\n",
       "2020-07     5618701\n",
       "2020-08     8834741\n",
       "2020-09     2988680\n",
       "2020-10     4633636\n",
       "2020-11     3595334\n",
       "2020-12     1438873\n",
       "2021-01     1786117\n",
       "2021-02     3111920\n",
       "2021-03     3256510\n",
       "2021-04     2562287\n",
       "2021-05     4379485\n",
       "2021-06     4927991\n",
       "2021-07     6976452\n",
       "2021-08     7910074\n",
       "2021-09     5412323\n",
       "2021-10     5192073\n",
       "Name: 전체_관객수, dtype: int64"
      ]
     },
     "execution_count": 10,
     "metadata": {},
     "output_type": "execute_result"
    }
   ],
   "source": [
    "value"
   ]
  },
  {
   "cell_type": "code",
   "execution_count": 11,
   "id": "5c1381ca",
   "metadata": {},
   "outputs": [],
   "source": [
    "## 리스트로 옮겨서 전년동기퍼센테이지 계산"
   ]
  },
  {
   "cell_type": "code",
   "execution_count": 12,
   "id": "59efdc45",
   "metadata": {},
   "outputs": [],
   "source": [
    "value_val = value.values"
   ]
  },
  {
   "cell_type": "code",
   "execution_count": 13,
   "id": "3224cefe",
   "metadata": {},
   "outputs": [
    {
     "data": {
      "text/plain": [
       "array([18122443, 22277733, 14671693, 13338962, 18062457, 22845579,\n",
       "       21916465, 24786121, 14733642, 14858383, 18600679, 22464620,\n",
       "       16843695,  7372370,  1834722,   972572,  1526236,  3864533,\n",
       "        5618701,  8834741,  2988680,  4633636,  3595334,  1438873,\n",
       "        1786117,  3111920,  3256510,  2562287,  4379485,  4927991,\n",
       "        6976452,  7910074,  5412323,  5192073])"
      ]
     },
     "execution_count": 13,
     "metadata": {},
     "output_type": "execute_result"
    }
   ],
   "source": [
    "value_val"
   ]
  },
  {
   "cell_type": "code",
   "execution_count": 14,
   "id": "a11c50f2",
   "metadata": {},
   "outputs": [],
   "source": [
    "#### 19-20년도"
   ]
  },
  {
   "cell_type": "code",
   "execution_count": 15,
   "id": "67ed505f",
   "metadata": {},
   "outputs": [],
   "source": [
    "lgeo = value_val[:24]"
   ]
  },
  {
   "cell_type": "code",
   "execution_count": 16,
   "id": "0c25abc3",
   "metadata": {},
   "outputs": [
    {
     "name": "stdout",
     "output_type": "stream",
     "text": [
      "7.056156832718415\n",
      "66.90700081556771\n",
      "87.4948174011002\n",
      "92.70878798515206\n",
      "91.55023040331668\n",
      "83.08411005910597\n",
      "74.36310554644648\n",
      "64.3560967042806\n",
      "79.71526659871334\n",
      "68.81466846022208\n",
      "80.67095292596576\n",
      "93.59493728360417\n"
     ]
    }
   ],
   "source": [
    "for i in range(12):\n",
    "    print(((lgeo[i] - lgeo[i+12])/lgeo[i])*100)"
   ]
  },
  {
   "cell_type": "code",
   "execution_count": 17,
   "id": "8ee30a67",
   "metadata": {},
   "outputs": [],
   "source": [
    "#### 20-21년도"
   ]
  },
  {
   "cell_type": "code",
   "execution_count": 18,
   "id": "67db3f67",
   "metadata": {},
   "outputs": [],
   "source": [
    "eoel = value_val[12:]"
   ]
  },
  {
   "cell_type": "code",
   "execution_count": 19,
   "id": "398fd958",
   "metadata": {},
   "outputs": [
    {
     "data": {
      "text/plain": [
       "array([16843695,  7372370,  1834722,   972572,  1526236,  3864533,\n",
       "        5618701,  8834741,  2988680,  4633636,  3595334,  1438873,\n",
       "        1786117,  3111920,  3256510,  2562287,  4379485,  4927991,\n",
       "        6976452,  7910074,  5412323,  5192073])"
      ]
     },
     "execution_count": 19,
     "metadata": {},
     "output_type": "execute_result"
    }
   ],
   "source": [
    "eoel"
   ]
  },
  {
   "cell_type": "code",
   "execution_count": 20,
   "id": "27a23151",
   "metadata": {},
   "outputs": [
    {
     "name": "stdout",
     "output_type": "stream",
     "text": [
      "89.39593123717806\n",
      "57.789421854844505\n",
      "-77.49337501812263\n",
      "-163.45473651308077\n",
      "-186.94677625216545\n",
      "-27.51840908073498\n",
      "-24.16485589818714\n",
      "10.466260414425278\n",
      "-81.09409505199619\n",
      "-12.051809852996653\n"
     ]
    }
   ],
   "source": [
    "for i in range(10):\n",
    "    print(((eoel[i]-eoel[i+12])/eoel[i])*100)"
   ]
  },
  {
   "cell_type": "code",
   "execution_count": null,
   "id": "c2220e03",
   "metadata": {},
   "outputs": [],
   "source": []
  }
 ],
 "metadata": {
  "kernelspec": {
   "display_name": "Python 3 (ipykernel)",
   "language": "python",
   "name": "python3"
  },
  "language_info": {
   "codemirror_mode": {
    "name": "ipython",
    "version": 3
   },
   "file_extension": ".py",
   "mimetype": "text/x-python",
   "name": "python",
   "nbconvert_exporter": "python",
   "pygments_lexer": "ipython3",
   "version": "3.8.10"
  }
 },
 "nbformat": 4,
 "nbformat_minor": 5
}
