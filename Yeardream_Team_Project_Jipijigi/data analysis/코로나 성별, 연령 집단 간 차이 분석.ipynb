{
 "cells": [
  {
   "cell_type": "code",
   "execution_count": 84,
   "metadata": {
    "scrolled": true
   },
   "outputs": [
    {
     "data": {
      "text/html": [
       "<div>\n",
       "<style scoped>\n",
       "    .dataframe tbody tr th:only-of-type {\n",
       "        vertical-align: middle;\n",
       "    }\n",
       "\n",
       "    .dataframe tbody tr th {\n",
       "        vertical-align: top;\n",
       "    }\n",
       "\n",
       "    .dataframe thead th {\n",
       "        text-align: right;\n",
       "    }\n",
       "</style>\n",
       "<table border=\"1\" class=\"dataframe\">\n",
       "  <thead>\n",
       "    <tr style=\"text-align: right;\">\n",
       "      <th></th>\n",
       "      <th>등록일시분초</th>\n",
       "      <th>수정일시분초</th>\n",
       "      <th>구분(성별, 연령별)</th>\n",
       "      <th>확진자</th>\n",
       "      <th>사망자</th>\n",
       "      <th>확진률</th>\n",
       "      <th>사망률</th>\n",
       "      <th>치명률</th>\n",
       "      <th>확진자 성별, 연령별 고유값</th>\n",
       "    </tr>\n",
       "  </thead>\n",
       "  <tbody>\n",
       "    <tr>\n",
       "      <th>0</th>\n",
       "      <td>2020-04-02 19:02:48.480</td>\n",
       "      <td>0</td>\n",
       "      <td>남성</td>\n",
       "      <td>3905</td>\n",
       "      <td>82</td>\n",
       "      <td>39.90</td>\n",
       "      <td>50.62</td>\n",
       "      <td>2.10</td>\n",
       "      <td>1</td>\n",
       "    </tr>\n",
       "    <tr>\n",
       "      <th>1</th>\n",
       "      <td>2020-04-02 19:02:48.480</td>\n",
       "      <td>0</td>\n",
       "      <td>여성</td>\n",
       "      <td>5881</td>\n",
       "      <td>80</td>\n",
       "      <td>60.10</td>\n",
       "      <td>49.38</td>\n",
       "      <td>1.36</td>\n",
       "      <td>2</td>\n",
       "    </tr>\n",
       "    <tr>\n",
       "      <th>2</th>\n",
       "      <td>2020-04-02 19:02:48.480</td>\n",
       "      <td>0</td>\n",
       "      <td>80 이상</td>\n",
       "      <td>442</td>\n",
       "      <td>82</td>\n",
       "      <td>4.52</td>\n",
       "      <td>50.62</td>\n",
       "      <td>18.55</td>\n",
       "      <td>3</td>\n",
       "    </tr>\n",
       "    <tr>\n",
       "      <th>3</th>\n",
       "      <td>2020-04-02 19:02:48.480</td>\n",
       "      <td>0</td>\n",
       "      <td>70-79</td>\n",
       "      <td>651</td>\n",
       "      <td>46</td>\n",
       "      <td>6.65</td>\n",
       "      <td>28.40</td>\n",
       "      <td>7.07</td>\n",
       "      <td>4</td>\n",
       "    </tr>\n",
       "    <tr>\n",
       "      <th>4</th>\n",
       "      <td>2020-04-02 19:02:48.480</td>\n",
       "      <td>0</td>\n",
       "      <td>60-69</td>\n",
       "      <td>1235</td>\n",
       "      <td>22</td>\n",
       "      <td>12.62</td>\n",
       "      <td>13.58</td>\n",
       "      <td>1.78</td>\n",
       "      <td>5</td>\n",
       "    </tr>\n",
       "    <tr>\n",
       "      <th>...</th>\n",
       "      <td>...</td>\n",
       "      <td>...</td>\n",
       "      <td>...</td>\n",
       "      <td>...</td>\n",
       "      <td>...</td>\n",
       "      <td>...</td>\n",
       "      <td>...</td>\n",
       "      <td>...</td>\n",
       "      <td>...</td>\n",
       "    </tr>\n",
       "    <tr>\n",
       "      <th>3571</th>\n",
       "      <td>2021-02-28 14:21:42.561</td>\n",
       "      <td>0</td>\n",
       "      <td>40-49</td>\n",
       "      <td>12855</td>\n",
       "      <td>14</td>\n",
       "      <td>14.33</td>\n",
       "      <td>0.87</td>\n",
       "      <td>0.11</td>\n",
       "      <td>7158</td>\n",
       "    </tr>\n",
       "    <tr>\n",
       "      <th>3572</th>\n",
       "      <td>2021-02-28 14:21:42.561</td>\n",
       "      <td>0</td>\n",
       "      <td>30-39</td>\n",
       "      <td>11711</td>\n",
       "      <td>6</td>\n",
       "      <td>13.06</td>\n",
       "      <td>0.37</td>\n",
       "      <td>0.05</td>\n",
       "      <td>7159</td>\n",
       "    </tr>\n",
       "    <tr>\n",
       "      <th>3573</th>\n",
       "      <td>2021-02-28 14:21:42.561</td>\n",
       "      <td>0</td>\n",
       "      <td>20-29</td>\n",
       "      <td>13542</td>\n",
       "      <td>1</td>\n",
       "      <td>15.10</td>\n",
       "      <td>0.06</td>\n",
       "      <td>0.01</td>\n",
       "      <td>7160</td>\n",
       "    </tr>\n",
       "    <tr>\n",
       "      <th>3574</th>\n",
       "      <td>2021-02-28 14:21:42.561</td>\n",
       "      <td>0</td>\n",
       "      <td>10-19</td>\n",
       "      <td>6031</td>\n",
       "      <td>0</td>\n",
       "      <td>6.73</td>\n",
       "      <td>0.00</td>\n",
       "      <td>0.00</td>\n",
       "      <td>7161</td>\n",
       "    </tr>\n",
       "    <tr>\n",
       "      <th>3575</th>\n",
       "      <td>2021-02-28 14:21:42.562</td>\n",
       "      <td>0</td>\n",
       "      <td>0-9</td>\n",
       "      <td>3622</td>\n",
       "      <td>0</td>\n",
       "      <td>4.04</td>\n",
       "      <td>0.00</td>\n",
       "      <td>0.00</td>\n",
       "      <td>7162</td>\n",
       "    </tr>\n",
       "  </tbody>\n",
       "</table>\n",
       "<p>3575 rows × 9 columns</p>\n",
       "</div>"
      ],
      "text/plain": [
       "                      등록일시분초 수정일시분초 구분(성별, 연령별)    확진자  사망자    확진률    사망률  \\\n",
       "0    2020-04-02 19:02:48.480      0          남성   3905   82  39.90  50.62   \n",
       "1    2020-04-02 19:02:48.480      0          여성   5881   80  60.10  49.38   \n",
       "2    2020-04-02 19:02:48.480      0       80 이상    442   82   4.52  50.62   \n",
       "3    2020-04-02 19:02:48.480      0       70-79    651   46   6.65  28.40   \n",
       "4    2020-04-02 19:02:48.480      0       60-69   1235   22  12.62  13.58   \n",
       "...                      ...    ...         ...    ...  ...    ...    ...   \n",
       "3571 2021-02-28 14:21:42.561      0       40-49  12855   14  14.33   0.87   \n",
       "3572 2021-02-28 14:21:42.561      0       30-39  11711    6  13.06   0.37   \n",
       "3573 2021-02-28 14:21:42.561      0       20-29  13542    1  15.10   0.06   \n",
       "3574 2021-02-28 14:21:42.561      0       10-19   6031    0   6.73   0.00   \n",
       "3575 2021-02-28 14:21:42.562      0         0-9   3622    0   4.04   0.00   \n",
       "\n",
       "        치명률  확진자 성별, 연령별 고유값  \n",
       "0      2.10                1  \n",
       "1      1.36                2  \n",
       "2     18.55                3  \n",
       "3      7.07                4  \n",
       "4      1.78                5  \n",
       "...     ...              ...  \n",
       "3571   0.11             7158  \n",
       "3572   0.05             7159  \n",
       "3573   0.01             7160  \n",
       "3574   0.00             7161  \n",
       "3575   0.00             7162  \n",
       "\n",
       "[3575 rows x 9 columns]"
      ]
     },
     "execution_count": 84,
     "metadata": {},
     "output_type": "execute_result"
    }
   ],
   "source": [
    "import pandas as pd\n",
    "import numpy as np\n",
    "\n",
    "df = pd.read_excel('21-02-28_19__API.xlsx', index_col = 0)\n",
    "df"
   ]
  },
  {
   "cell_type": "code",
   "execution_count": 38,
   "metadata": {},
   "outputs": [
    {
     "data": {
      "text/plain": [
       "45.3932"
      ]
     },
     "execution_count": 38,
     "metadata": {},
     "output_type": "execute_result"
    }
   ],
   "source": [
    "df_남성 = df[df['구분(성별, 연령별)'] == '남성']\n",
    "df_남성_확진률 = list(df_남성['확진률'])\n",
    "np.mean(df_남성_확진률)"
   ]
  },
  {
   "cell_type": "code",
   "execution_count": 39,
   "metadata": {},
   "outputs": [
    {
     "data": {
      "text/plain": [
       "54.6068"
      ]
     },
     "execution_count": 39,
     "metadata": {},
     "output_type": "execute_result"
    }
   ],
   "source": [
    "df_여성 = df[df['구분(성별, 연령별)'] == '여성']\n",
    "df_여성_확진률 = list(df_여성['확진률'])\n",
    "np.mean(df_여성_확진률)"
   ]
  },
  {
   "cell_type": "code",
   "execution_count": 40,
   "metadata": {},
   "outputs": [
    {
     "data": {
      "text/plain": [
       "2.1996307692307697"
      ]
     },
     "execution_count": 40,
     "metadata": {},
     "output_type": "execute_result"
    }
   ],
   "source": [
    "df_남성_치명률 = list(df_남성['치명률'])\n",
    "np.mean(df_남성_치명률)"
   ]
  },
  {
   "cell_type": "code",
   "execution_count": 41,
   "metadata": {},
   "outputs": [
    {
     "data": {
      "text/plain": [
       "1.6471692307692312"
      ]
     },
     "execution_count": 41,
     "metadata": {},
     "output_type": "execute_result"
    }
   ],
   "source": [
    "df_여성_치명률 = list(df_여성['치명률'])\n",
    "np.mean(df_여성_치명률)"
   ]
  },
  {
   "cell_type": "code",
   "execution_count": null,
   "metadata": {},
   "outputs": [],
   "source": [
    "import scipy.stats"
   ]
  },
  {
   "cell_type": "code",
   "execution_count": 35,
   "metadata": {},
   "outputs": [
    {
     "data": {
      "text/plain": [
       "Ttest_indResult(statistic=-40.57833025993995, pvalue=4.456202100653829e-180)"
      ]
     },
     "execution_count": 35,
     "metadata": {},
     "output_type": "execute_result"
    }
   ],
   "source": [
    "scipy.stats.ttest_ind(df_남성_확진률, df_여성_확진률, equal_var=False)"
   ]
  },
  {
   "cell_type": "code",
   "execution_count": 30,
   "metadata": {},
   "outputs": [
    {
     "data": {
      "text/plain": [
       "Ttest_indResult(statistic=18.553056132921736, pvalue=1.583043559538735e-56)"
      ]
     },
     "execution_count": 30,
     "metadata": {},
     "output_type": "execute_result"
    }
   ],
   "source": [
    "scipy.stats.ttest_ind(df_남성_치명률, df_여성_치명률, equal_var=False)"
   ]
  },
  {
   "cell_type": "code",
   "execution_count": 79,
   "metadata": {
    "scrolled": true
   },
   "outputs": [
    {
     "data": {
      "text/plain": [
       "<matplotlib.axes._subplots.AxesSubplot at 0x15610c26d08>"
      ]
     },
     "execution_count": 79,
     "metadata": {},
     "output_type": "execute_result"
    },
    {
     "name": "stderr",
     "output_type": "stream",
     "text": [
      "C:\\Users\\HMB\\anaconda3\\lib\\site-packages\\matplotlib\\backends\\backend_agg.py:211: RuntimeWarning: Glyph 54869 missing from current font.\n",
      "  font.set_text(s, 0.0, flags=flags)\n",
      "C:\\Users\\HMB\\anaconda3\\lib\\site-packages\\matplotlib\\backends\\backend_agg.py:211: RuntimeWarning: Glyph 51652 missing from current font.\n",
      "  font.set_text(s, 0.0, flags=flags)\n",
      "C:\\Users\\HMB\\anaconda3\\lib\\site-packages\\matplotlib\\backends\\backend_agg.py:211: RuntimeWarning: Glyph 51088 missing from current font.\n",
      "  font.set_text(s, 0.0, flags=flags)\n",
      "C:\\Users\\HMB\\anaconda3\\lib\\site-packages\\matplotlib\\backends\\backend_agg.py:211: RuntimeWarning: Glyph 51060 missing from current font.\n",
      "  font.set_text(s, 0.0, flags=flags)\n",
      "C:\\Users\\HMB\\anaconda3\\lib\\site-packages\\matplotlib\\backends\\backend_agg.py:211: RuntimeWarning: Glyph 49345 missing from current font.\n",
      "  font.set_text(s, 0.0, flags=flags)\n",
      "C:\\Users\\HMB\\anaconda3\\lib\\site-packages\\matplotlib\\backends\\backend_agg.py:180: RuntimeWarning: Glyph 51060 missing from current font.\n",
      "  font.set_text(s, 0, flags=flags)\n",
      "C:\\Users\\HMB\\anaconda3\\lib\\site-packages\\matplotlib\\backends\\backend_agg.py:180: RuntimeWarning: Glyph 49345 missing from current font.\n",
      "  font.set_text(s, 0, flags=flags)\n",
      "C:\\Users\\HMB\\anaconda3\\lib\\site-packages\\matplotlib\\backends\\backend_agg.py:211: RuntimeWarning: Glyph 44396 missing from current font.\n",
      "  font.set_text(s, 0.0, flags=flags)\n",
      "C:\\Users\\HMB\\anaconda3\\lib\\site-packages\\matplotlib\\backends\\backend_agg.py:211: RuntimeWarning: Glyph 48516 missing from current font.\n",
      "  font.set_text(s, 0.0, flags=flags)\n",
      "C:\\Users\\HMB\\anaconda3\\lib\\site-packages\\matplotlib\\backends\\backend_agg.py:180: RuntimeWarning: Glyph 44396 missing from current font.\n",
      "  font.set_text(s, 0, flags=flags)\n",
      "C:\\Users\\HMB\\anaconda3\\lib\\site-packages\\matplotlib\\backends\\backend_agg.py:180: RuntimeWarning: Glyph 48516 missing from current font.\n",
      "  font.set_text(s, 0, flags=flags)\n",
      "C:\\Users\\HMB\\anaconda3\\lib\\site-packages\\matplotlib\\backends\\backend_agg.py:180: RuntimeWarning: Glyph 54869 missing from current font.\n",
      "  font.set_text(s, 0, flags=flags)\n",
      "C:\\Users\\HMB\\anaconda3\\lib\\site-packages\\matplotlib\\backends\\backend_agg.py:180: RuntimeWarning: Glyph 51652 missing from current font.\n",
      "  font.set_text(s, 0, flags=flags)\n",
      "C:\\Users\\HMB\\anaconda3\\lib\\site-packages\\matplotlib\\backends\\backend_agg.py:180: RuntimeWarning: Glyph 51088 missing from current font.\n",
      "  font.set_text(s, 0, flags=flags)\n"
     ]
    },
    {
     "data": {
      "image/png": "[encoded data removed]",
      "text/plain": [
       "<Figure size 432x288 with 1 Axes>"
      ]
     },
     "metadata": {
      "needs_background": "light"
     },
     "output_type": "display_data"
    }
   ],
   "source": [
    "test = df[(df['구분(성별, 연령별)'] != '남성') & (df['구분(성별, 연령별)'] != '여성')][['구분(성별, 연령별)', '확진자']]\n",
    "test.columns = ['구분', '확진자']\n",
    "test.boxplot(column = '확진자', by='구분' , grid = False)"
   ]
  },
  {
   "cell_type": "code",
   "execution_count": 83,
   "metadata": {
    "scrolled": true
   },
   "outputs": [
    {
     "name": "stdout",
     "output_type": "stream",
     "text": [
      "              df        sum_sq       mean_sq           F         PR(>F)\n",
      "C(구분)        8.0  8.820584e+09  1.102573e+09  128.721701  2.929382e-185\n",
      "Residual  2916.0  2.497716e+10  8.565556e+06         NaN            NaN\n"
     ]
    }
   ],
   "source": [
    "from statsmodels.formula.api import ols\n",
    "from statsmodels.stats.anova import anova_lm\n",
    "model = ols('확진자 ~ C(구분)', test).fit()\n",
    "print(anova_lm(model))"
   ]
  },
  {
   "cell_type": "code",
   "execution_count": null,
   "metadata": {},
   "outputs": [],
   "source": []
  },
  {
   "cell_type": "code",
   "execution_count": 43,
   "metadata": {},
   "outputs": [
    {
     "data": {
      "text/plain": [
       "array(['남성', '여성', '80 이상', '70-79', '60-69', '50-59', '40-49', '30-39',\n",
       "       '20-29', '10-19', '0-9'], dtype=object)"
      ]
     },
     "execution_count": 43,
     "metadata": {},
     "output_type": "execute_result"
    }
   ],
   "source": [
    "df['구분(성별, 연령별)'].unique()"
   ]
  },
  {
   "cell_type": "code",
   "execution_count": 60,
   "metadata": {},
   "outputs": [
    {
     "data": {
      "text/html": [
       "<div>\n",
       "<style scoped>\n",
       "    .dataframe tbody tr th:only-of-type {\n",
       "        vertical-align: middle;\n",
       "    }\n",
       "\n",
       "    .dataframe tbody tr th {\n",
       "        vertical-align: top;\n",
       "    }\n",
       "\n",
       "    .dataframe thead th {\n",
       "        text-align: right;\n",
       "    }\n",
       "</style>\n",
       "<table border=\"1\" class=\"dataframe\">\n",
       "  <thead>\n",
       "    <tr style=\"text-align: right;\">\n",
       "      <th></th>\n",
       "      <th>0-9</th>\n",
       "      <th>10-19</th>\n",
       "      <th>20-29</th>\n",
       "      <th>30-39</th>\n",
       "      <th>40-49</th>\n",
       "      <th>50-59</th>\n",
       "      <th>60-69</th>\n",
       "      <th>70-79</th>\n",
       "      <th>80 이상</th>\n",
       "    </tr>\n",
       "  </thead>\n",
       "  <tbody>\n",
       "    <tr>\n",
       "      <th>0</th>\n",
       "      <td>112</td>\n",
       "      <td>515</td>\n",
       "      <td>2656</td>\n",
       "      <td>1012</td>\n",
       "      <td>1312</td>\n",
       "      <td>1851</td>\n",
       "      <td>1235</td>\n",
       "      <td>651</td>\n",
       "      <td>442</td>\n",
       "    </tr>\n",
       "    <tr>\n",
       "      <th>1</th>\n",
       "      <td>126</td>\n",
       "      <td>544</td>\n",
       "      <td>2819</td>\n",
       "      <td>1092</td>\n",
       "      <td>1382</td>\n",
       "      <td>1909</td>\n",
       "      <td>1304</td>\n",
       "      <td>689</td>\n",
       "      <td>466</td>\n",
       "    </tr>\n",
       "    <tr>\n",
       "      <th>2</th>\n",
       "      <td>126</td>\n",
       "      <td>548</td>\n",
       "      <td>2832</td>\n",
       "      <td>1102</td>\n",
       "      <td>1387</td>\n",
       "      <td>1915</td>\n",
       "      <td>1312</td>\n",
       "      <td>692</td>\n",
       "      <td>470</td>\n",
       "    </tr>\n",
       "    <tr>\n",
       "      <th>3</th>\n",
       "      <td>128</td>\n",
       "      <td>552</td>\n",
       "      <td>2844</td>\n",
       "      <td>1109</td>\n",
       "      <td>1394</td>\n",
       "      <td>1917</td>\n",
       "      <td>1314</td>\n",
       "      <td>692</td>\n",
       "      <td>473</td>\n",
       "    </tr>\n",
       "    <tr>\n",
       "      <th>4</th>\n",
       "      <td>129</td>\n",
       "      <td>553</td>\n",
       "      <td>2851</td>\n",
       "      <td>1113</td>\n",
       "      <td>1396</td>\n",
       "      <td>1920</td>\n",
       "      <td>1320</td>\n",
       "      <td>694</td>\n",
       "      <td>474</td>\n",
       "    </tr>\n",
       "    <tr>\n",
       "      <th>...</th>\n",
       "      <td>...</td>\n",
       "      <td>...</td>\n",
       "      <td>...</td>\n",
       "      <td>...</td>\n",
       "      <td>...</td>\n",
       "      <td>...</td>\n",
       "      <td>...</td>\n",
       "      <td>...</td>\n",
       "      <td>...</td>\n",
       "    </tr>\n",
       "    <tr>\n",
       "      <th>320</th>\n",
       "      <td>3551</td>\n",
       "      <td>5913</td>\n",
       "      <td>13310</td>\n",
       "      <td>11461</td>\n",
       "      <td>12616</td>\n",
       "      <td>16403</td>\n",
       "      <td>13816</td>\n",
       "      <td>6721</td>\n",
       "      <td>4329</td>\n",
       "    </tr>\n",
       "    <tr>\n",
       "      <th>321</th>\n",
       "      <td>3575</td>\n",
       "      <td>5944</td>\n",
       "      <td>13372</td>\n",
       "      <td>11529</td>\n",
       "      <td>12683</td>\n",
       "      <td>16471</td>\n",
       "      <td>13862</td>\n",
       "      <td>6740</td>\n",
       "      <td>4340</td>\n",
       "    </tr>\n",
       "    <tr>\n",
       "      <th>322</th>\n",
       "      <td>3588</td>\n",
       "      <td>5972</td>\n",
       "      <td>13428</td>\n",
       "      <td>11596</td>\n",
       "      <td>12741</td>\n",
       "      <td>16550</td>\n",
       "      <td>13928</td>\n",
       "      <td>6764</td>\n",
       "      <td>4355</td>\n",
       "    </tr>\n",
       "    <tr>\n",
       "      <th>323</th>\n",
       "      <td>3610</td>\n",
       "      <td>6002</td>\n",
       "      <td>13496</td>\n",
       "      <td>11667</td>\n",
       "      <td>12800</td>\n",
       "      <td>16618</td>\n",
       "      <td>13977</td>\n",
       "      <td>6787</td>\n",
       "      <td>4364</td>\n",
       "    </tr>\n",
       "    <tr>\n",
       "      <th>324</th>\n",
       "      <td>3622</td>\n",
       "      <td>6031</td>\n",
       "      <td>13542</td>\n",
       "      <td>11711</td>\n",
       "      <td>12855</td>\n",
       "      <td>16697</td>\n",
       "      <td>14029</td>\n",
       "      <td>6812</td>\n",
       "      <td>4377</td>\n",
       "    </tr>\n",
       "  </tbody>\n",
       "</table>\n",
       "<p>325 rows × 9 columns</p>\n",
       "</div>"
      ],
      "text/plain": [
       "      0-9  10-19  20-29  30-39  40-49  50-59  60-69  70-79  80 이상\n",
       "0     112    515   2656   1012   1312   1851   1235    651    442\n",
       "1     126    544   2819   1092   1382   1909   1304    689    466\n",
       "2     126    548   2832   1102   1387   1915   1312    692    470\n",
       "3     128    552   2844   1109   1394   1917   1314    692    473\n",
       "4     129    553   2851   1113   1396   1920   1320    694    474\n",
       "..    ...    ...    ...    ...    ...    ...    ...    ...    ...\n",
       "320  3551   5913  13310  11461  12616  16403  13816   6721   4329\n",
       "321  3575   5944  13372  11529  12683  16471  13862   6740   4340\n",
       "322  3588   5972  13428  11596  12741  16550  13928   6764   4355\n",
       "323  3610   6002  13496  11667  12800  16618  13977   6787   4364\n",
       "324  3622   6031  13542  11711  12855  16697  14029   6812   4377\n",
       "\n",
       "[325 rows x 9 columns]"
      ]
     },
     "execution_count": 60,
     "metadata": {},
     "output_type": "execute_result"
    }
   ],
   "source": [
    "연령 = ['0-9', '10-19', '20-29', '30-39', '40-49', '50-59', '60-69', '70-79', '80 이상']\n",
    "\n",
    "df_확진자_연령 = pd.DataFrame()\n",
    "for old in 연령:\n",
    "    df_확진자_연령[old] = pd.DataFrame(df[df['구분(성별, 연령별)'] == old]['확진자']).reset_index(drop=True, inplace=False)['확진자']\n",
    "\n",
    "df_확진자_연령"
   ]
  },
  {
   "cell_type": "code",
   "execution_count": 86,
   "metadata": {},
   "outputs": [
    {
     "name": "stdout",
     "output_type": "stream",
     "text": [
      "0-9 : 934.9015384615385\n",
      "10-19 : 1869.8246153846153\n",
      "20-29 : 5768.710769230769\n",
      "30-39 : 3877.0738461538463\n",
      "40-49 : 4305.704615384615\n",
      "50-59 : 5719.52\n",
      "60-69 : 4706.48\n",
      "70-79 : 2346.889230769231\n",
      "80 이상 : 1429.8153846153846\n"
     ]
    }
   ],
   "source": [
    "for old in 연령:\n",
    "    print(old, \":\", np.mean(df_확진자_연령[old]))"
   ]
  },
  {
   "cell_type": "code",
   "execution_count": 87,
   "metadata": {},
   "outputs": [
    {
     "data": {
      "text/html": [
       "<div>\n",
       "<style scoped>\n",
       "    .dataframe tbody tr th:only-of-type {\n",
       "        vertical-align: middle;\n",
       "    }\n",
       "\n",
       "    .dataframe tbody tr th {\n",
       "        vertical-align: top;\n",
       "    }\n",
       "\n",
       "    .dataframe thead th {\n",
       "        text-align: right;\n",
       "    }\n",
       "</style>\n",
       "<table border=\"1\" class=\"dataframe\">\n",
       "  <thead>\n",
       "    <tr style=\"text-align: right;\">\n",
       "      <th></th>\n",
       "      <th>0-9</th>\n",
       "      <th>10-19</th>\n",
       "      <th>20-29</th>\n",
       "      <th>30-39</th>\n",
       "      <th>40-49</th>\n",
       "      <th>50-59</th>\n",
       "      <th>60-69</th>\n",
       "      <th>70-79</th>\n",
       "      <th>80 이상</th>\n",
       "    </tr>\n",
       "  </thead>\n",
       "  <tbody>\n",
       "    <tr>\n",
       "      <th>324</th>\n",
       "      <td>3622</td>\n",
       "      <td>6031</td>\n",
       "      <td>13542</td>\n",
       "      <td>11711</td>\n",
       "      <td>12855</td>\n",
       "      <td>16697</td>\n",
       "      <td>14029</td>\n",
       "      <td>6812</td>\n",
       "      <td>4377</td>\n",
       "    </tr>\n",
       "  </tbody>\n",
       "</table>\n",
       "</div>"
      ],
      "text/plain": [
       "      0-9  10-19  20-29  30-39  40-49  50-59  60-69  70-79  80 이상\n",
       "324  3622   6031  13542  11711  12855  16697  14029   6812   4377"
      ]
     },
     "execution_count": 87,
     "metadata": {},
     "output_type": "execute_result"
    }
   ],
   "source": [
    "df_확진자_연령[-1:]"
   ]
  },
  {
   "cell_type": "code",
   "execution_count": null,
   "metadata": {},
   "outputs": [],
   "source": []
  },
  {
   "cell_type": "code",
   "execution_count": 68,
   "metadata": {},
   "outputs": [
    {
     "name": "stderr",
     "output_type": "stream",
     "text": [
      "C:\\Users\\HMB\\anaconda3\\lib\\site-packages\\matplotlib\\backends\\backend_agg.py:211: RuntimeWarning: Glyph 45224 missing from current font.\n",
      "  font.set_text(s, 0.0, flags=flags)\n",
      "C:\\Users\\HMB\\anaconda3\\lib\\site-packages\\matplotlib\\backends\\backend_agg.py:211: RuntimeWarning: Glyph 49457 missing from current font.\n",
      "  font.set_text(s, 0.0, flags=flags)\n",
      "C:\\Users\\HMB\\anaconda3\\lib\\site-packages\\matplotlib\\backends\\backend_agg.py:211: RuntimeWarning: Glyph 50668 missing from current font.\n",
      "  font.set_text(s, 0.0, flags=flags)\n",
      "C:\\Users\\HMB\\anaconda3\\lib\\site-packages\\matplotlib\\backends\\backend_agg.py:211: RuntimeWarning: Glyph 51060 missing from current font.\n",
      "  font.set_text(s, 0.0, flags=flags)\n",
      "C:\\Users\\HMB\\anaconda3\\lib\\site-packages\\matplotlib\\backends\\backend_agg.py:211: RuntimeWarning: Glyph 49345 missing from current font.\n",
      "  font.set_text(s, 0.0, flags=flags)\n",
      "C:\\Users\\HMB\\anaconda3\\lib\\site-packages\\matplotlib\\backends\\backend_agg.py:180: RuntimeWarning: Glyph 45224 missing from current font.\n",
      "  font.set_text(s, 0, flags=flags)\n",
      "C:\\Users\\HMB\\anaconda3\\lib\\site-packages\\matplotlib\\backends\\backend_agg.py:180: RuntimeWarning: Glyph 49457 missing from current font.\n",
      "  font.set_text(s, 0, flags=flags)\n",
      "C:\\Users\\HMB\\anaconda3\\lib\\site-packages\\matplotlib\\backends\\backend_agg.py:180: RuntimeWarning: Glyph 50668 missing from current font.\n",
      "  font.set_text(s, 0, flags=flags)\n",
      "C:\\Users\\HMB\\anaconda3\\lib\\site-packages\\matplotlib\\backends\\backend_agg.py:180: RuntimeWarning: Glyph 51060 missing from current font.\n",
      "  font.set_text(s, 0, flags=flags)\n",
      "C:\\Users\\HMB\\anaconda3\\lib\\site-packages\\matplotlib\\backends\\backend_agg.py:180: RuntimeWarning: Glyph 49345 missing from current font.\n",
      "  font.set_text(s, 0, flags=flags)\n",
      "C:\\Users\\HMB\\anaconda3\\lib\\site-packages\\matplotlib\\backends\\backend_agg.py:211: RuntimeWarning: Glyph 44396 missing from current font.\n",
      "  font.set_text(s, 0.0, flags=flags)\n",
      "C:\\Users\\HMB\\anaconda3\\lib\\site-packages\\matplotlib\\backends\\backend_agg.py:211: RuntimeWarning: Glyph 48516 missing from current font.\n",
      "  font.set_text(s, 0.0, flags=flags)\n",
      "C:\\Users\\HMB\\anaconda3\\lib\\site-packages\\matplotlib\\backends\\backend_agg.py:211: RuntimeWarning: Glyph 48324 missing from current font.\n",
      "  font.set_text(s, 0.0, flags=flags)\n",
      "C:\\Users\\HMB\\anaconda3\\lib\\site-packages\\matplotlib\\backends\\backend_agg.py:211: RuntimeWarning: Glyph 50672 missing from current font.\n",
      "  font.set_text(s, 0.0, flags=flags)\n",
      "C:\\Users\\HMB\\anaconda3\\lib\\site-packages\\matplotlib\\backends\\backend_agg.py:211: RuntimeWarning: Glyph 47161 missing from current font.\n",
      "  font.set_text(s, 0.0, flags=flags)\n",
      "C:\\Users\\HMB\\anaconda3\\lib\\site-packages\\matplotlib\\backends\\backend_agg.py:180: RuntimeWarning: Glyph 44396 missing from current font.\n",
      "  font.set_text(s, 0, flags=flags)\n",
      "C:\\Users\\HMB\\anaconda3\\lib\\site-packages\\matplotlib\\backends\\backend_agg.py:180: RuntimeWarning: Glyph 48516 missing from current font.\n",
      "  font.set_text(s, 0, flags=flags)\n",
      "C:\\Users\\HMB\\anaconda3\\lib\\site-packages\\matplotlib\\backends\\backend_agg.py:180: RuntimeWarning: Glyph 48324 missing from current font.\n",
      "  font.set_text(s, 0, flags=flags)\n",
      "C:\\Users\\HMB\\anaconda3\\lib\\site-packages\\matplotlib\\backends\\backend_agg.py:180: RuntimeWarning: Glyph 50672 missing from current font.\n",
      "  font.set_text(s, 0, flags=flags)\n",
      "C:\\Users\\HMB\\anaconda3\\lib\\site-packages\\matplotlib\\backends\\backend_agg.py:180: RuntimeWarning: Glyph 47161 missing from current font.\n",
      "  font.set_text(s, 0, flags=flags)\n",
      "C:\\Users\\HMB\\anaconda3\\lib\\site-packages\\matplotlib\\backends\\backend_agg.py:211: RuntimeWarning: Glyph 54869 missing from current font.\n",
      "  font.set_text(s, 0.0, flags=flags)\n",
      "C:\\Users\\HMB\\anaconda3\\lib\\site-packages\\matplotlib\\backends\\backend_agg.py:211: RuntimeWarning: Glyph 51652 missing from current font.\n",
      "  font.set_text(s, 0.0, flags=flags)\n",
      "C:\\Users\\HMB\\anaconda3\\lib\\site-packages\\matplotlib\\backends\\backend_agg.py:211: RuntimeWarning: Glyph 51088 missing from current font.\n",
      "  font.set_text(s, 0.0, flags=flags)\n",
      "C:\\Users\\HMB\\anaconda3\\lib\\site-packages\\matplotlib\\backends\\backend_agg.py:180: RuntimeWarning: Glyph 54869 missing from current font.\n",
      "  font.set_text(s, 0, flags=flags)\n",
      "C:\\Users\\HMB\\anaconda3\\lib\\site-packages\\matplotlib\\backends\\backend_agg.py:180: RuntimeWarning: Glyph 51652 missing from current font.\n",
      "  font.set_text(s, 0, flags=flags)\n",
      "C:\\Users\\HMB\\anaconda3\\lib\\site-packages\\matplotlib\\backends\\backend_agg.py:180: RuntimeWarning: Glyph 51088 missing from current font.\n",
      "  font.set_text(s, 0, flags=flags)\n"
     ]
    },
    {
     "data": {
      "image/png": "[encoded data removed]",
      "text/plain": [
       "<Figure size 432x288 with 1 Axes>"
      ]
     },
     "metadata": {
      "needs_background": "light"
     },
     "output_type": "display_data"
    }
   ],
   "source": [
    "import matplotlib.pyplot as plt\n",
    "\n",
    "import seaborn as sns\n",
    "\n",
    "\n",
    "sns.boxplot(x=\"구분(성별, 연령별)\", \n",
    "\n",
    "            y=\"확진자\", \n",
    "\n",
    "            data=df)\n",
    "\n",
    "plt.show()\n",
    "\n"
   ]
  },
  {
   "cell_type": "code",
   "execution_count": null,
   "metadata": {},
   "outputs": [],
   "source": []
  }
 ],
 "metadata": {
  "kernelspec": {
   "display_name": "Python 3",
   "language": "python",
   "name": "python3"
  },
  "language_info": {
   "codemirror_mode": {
    "name": "ipython",
    "version": 3
   },
   "file_extension": ".py",
   "mimetype": "text/x-python",
   "name": "python",
   "nbconvert_exporter": "python",
   "pygments_lexer": "ipython3",
   "version": "3.7.6"
  }
 },
 "nbformat": 4,
 "nbformat_minor": 4
}
